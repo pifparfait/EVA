{
 "cells": [
  {
   "cell_type": "markdown",
   "metadata": {},
   "source": [
    "# Exponential Value Approximation (EVA)\n",
    "\n",
    "\n",
    "\n",
    "The first step will be to generate the Hamiltonian with which we will test. Here is shown the construction of a Hamiltonian of order 3 in which each term with probability p will appear. In case we want to test with the Hamiltonian of order 2 we will have to comment the last for."
   ]
  },
  {
   "cell_type": "code",
   "execution_count": 1,
   "metadata": {},
   "outputs": [],
   "source": [
    "import pennylane as qml\n",
    "from pennylane import numpy as np\n",
    "\n",
    "p = 0.75 \n",
    "size = 10 # number of qubits\n",
    "\n",
    "obs = []\n",
    "for j in range(size):\n",
    "    if np.random.rand() < p :obs.append(qml.PauliZ(wires = j))\n",
    "        \n",
    "    for i in range(j+1,size):\n",
    "        if np.random.rand() < p :obs.append(qml.PauliZ(wires = j) @ qml.PauliZ(wires = i))\n",
    "            \n",
    "        for k in range(i+1,size):\n",
    "            if np.random.rand() < p :obs.append(qml.PauliZ(wires = j) @ qml.PauliZ(wires = i) @ qml.PauliZ(wires = k))\n",
    "        \n",
    "\n",
    "coefs = (np.random.rand(len(obs))-0.5)*2\n",
    "coefs = coefs / sum([abs(i) for i in coefs]) # we normalize the coefficients\n",
    "\n",
    "\n",
    "H = qml.Hamiltonian(coefs, obs)"
   ]
  },
  {
   "cell_type": "markdown",
   "metadata": {},
   "source": [
    "Our objective will be to calculate the expected value of a state $\\phi$ through the Hamiltonian. To do this we will first define the ansantz that we will use to generate the $\\phi$ state."
   ]
  },
  {
   "cell_type": "code",
   "execution_count": 2,
   "metadata": {},
   "outputs": [],
   "source": [
    "w = np.random.rand(size) * np.pi\n",
    "\n",
    "def ansantz(w, wires = list(range(size))):\n",
    "    for i in wires:\n",
    "        qml.RX(w[i], wires = i)\n",
    "        qml.CNOT(wires = [i, (i + 1) % size])"
   ]
  },
  {
   "cell_type": "markdown",
   "metadata": {},
   "source": [
    "We will start by implementing EVA. Recall that it had the following structure:\n",
    "\n",
    "\n",
    "<img src=\"EVA.png\">"
   ]
  },
  {
   "cell_type": "code",
   "execution_count": 3,
   "metadata": {},
   "outputs": [
    {
     "name": "stdout",
     "output_type": "stream",
     "text": [
      "expected value: -0.04998235294117647\n"
     ]
    }
   ],
   "source": [
    "from pennylane import numpy as np\n",
    "from pennylane.templates import ApproxTimeEvolution\n",
    "\n",
    "shots = 5000\n",
    "k = 4\n",
    "       \n",
    "@qml.template\n",
    "def evolution():\n",
    "    ApproxTimeEvolution(H, -1/k, 1)\n",
    "    \n",
    "ops = qml.ctrl(evolution, control = size)\n",
    "dev = qml.device(\"default.qubit\", size + 1, shots = int(len(H.coeffs) * shots * k ** 2))\n",
    "\n",
    "@qml.qnode(dev)\n",
    "def model(w):\n",
    "    ansantz(w)\n",
    "    qml.Hadamard(wires = size)\n",
    "    qml.RZ(-np.pi/2, wires = size)\n",
    "    ops()\n",
    "    qml.Hadamard(wires = size)\n",
    "    return qml.expval(qml.PauliZ(wires = size))\n",
    "\n",
    "def EVA(w):\n",
    "    return model(w) * k \n",
    "\n",
    "print(\"expected value:\", EVA(w))"
   ]
  },
  {
   "cell_type": "markdown",
   "metadata": {},
   "source": [
    "We will now move on to implement the second version, the reduced EVA. In this case the circuit was as follows:\n",
    "\n",
    "<img src=\"rEVA.png\">"
   ]
  },
  {
   "cell_type": "code",
   "execution_count": 4,
   "metadata": {},
   "outputs": [
    {
     "name": "stdout",
     "output_type": "stream",
     "text": [
      "expected value: -0.051958823529411766\n"
     ]
    }
   ],
   "source": [
    "@qml.template\n",
    "def hadamards():\n",
    "    for i in range(size):\n",
    "        qml.Hadamard(wires = i)\n",
    "    \n",
    "    \n",
    "ops2 = qml.ctrl(hadamards, control = size)\n",
    "\n",
    "@qml.qnode(dev)\n",
    "def model2(w):\n",
    "    ansantz(w)\n",
    "    qml.Hadamard(wires = size)\n",
    "    qml.RZ(np.pi/2, wires = size)\n",
    "    ops2()\n",
    "    ApproxTimeEvolution(H, -1/k, 1)\n",
    "    ops2()\n",
    "    qml.Hadamard(wires = size)\n",
    "    return qml.expval(qml.PauliZ(wires = size))\n",
    "\n",
    "def reducedEVA(w):\n",
    "    return model2(w) * k \n",
    "\n",
    "print(\"expected value:\", reducedEVA(w))"
   ]
  },
  {
   "cell_type": "markdown",
   "metadata": {},
   "source": [
    "Finally, we will implement the VQE and its optimized version to check the results through this other approach.\n"
   ]
  },
  {
   "cell_type": "code",
   "execution_count": 5,
   "metadata": {},
   "outputs": [
    {
     "name": "stdout",
     "output_type": "stream",
     "text": [
      "VQE, expected value: -0.05167444310684194\n",
      "VQE optimize, expected value: -0.05088705702260766\n"
     ]
    }
   ],
   "source": [
    "def vqe(w):\n",
    "    dev2 = qml.device(\"default.qubit\", size, shots = shots)\n",
    "    cost_fn = qml.ExpvalCost(ansantz, H, dev2, optimize = False)\n",
    "    return cost_fn(w)\n",
    "\n",
    "def vqe_compact(w):\n",
    "    dev2 = qml.device(\"default.qubit\", size , shots = shots)\n",
    "    cost_fn = qml.ExpvalCost(ansantz, H, dev2, optimize = True)\n",
    "    return cost_fn(w)\n",
    "\n",
    "print(\"VQE, expected value:\", vqe(w))\n",
    "print(\"VQE optimize, expected value:\", vqe_compact(w))"
   ]
  },
  {
   "cell_type": "markdown",
   "metadata": {},
   "source": [
    "As we can see, the four methods approximate the expected value in a similar way."
   ]
  }
 ],
 "metadata": {
  "kernelspec": {
   "display_name": "Python 3",
   "language": "python",
   "name": "python3"
  },
  "language_info": {
   "codemirror_mode": {
    "name": "ipython",
    "version": 3
   },
   "file_extension": ".py",
   "mimetype": "text/x-python",
   "name": "python",
   "nbconvert_exporter": "python",
   "pygments_lexer": "ipython3",
   "version": "3.8.3"
  }
 },
 "nbformat": 4,
 "nbformat_minor": 4
}
